{
 "cells": [
  {
   "cell_type": "code",
   "execution_count": null,
   "id": "276bc487",
   "metadata": {},
   "outputs": [],
   "source": [
    "%pip install nbformat\n",
    "%pip install --upgrade plotly"
   ]
  },
  {
   "cell_type": "code",
   "execution_count": null,
   "id": "01b63337",
   "metadata": {},
   "outputs": [],
   "source": [
    "import yfinance as yf\n",
    "import pandas as pd\n",
    "import requests\n",
    "from bs4 import BeautifulSoup\n",
    "import plotly.graph_objects as go\n",
    "from plotly.subplots import make_subplots"
   ]
  },
  {
   "cell_type": "code",
   "execution_count": null,
   "id": "d07bb029",
   "metadata": {},
   "outputs": [],
   "source": [
    "import plotly.io as pio\n",
    "pio.renderers.default = \"iframe\""
   ]
  },
  {
   "cell_type": "code",
   "execution_count": null,
   "id": "b676f101",
   "metadata": {},
   "outputs": [],
   "source": [
    "def make_graph(stock_data, revenue_data, stock):\n",
    "    fig = make_subplots(rows=2, cols=1, shared_xaxes=True, subplot_titles=(\"Historical Share Price\", \"Historical Revenue\"), vertical_spacing = .3)\n",
    "    stock_data_specific = stock_data[stock_data.Date <= '2021-06-14']\n",
    "    revenue_data_specific = revenue_data[revenue_data.Date <= '2021-04-30']\n",
    "    fig.add_trace(go.Scatter(x=pd.to_datetime(stock_data_specific.Date, infer_datetime_format=True), y=stock_data_specific.Close.astype(\"float\"), name=\"Share Price\"), row=1, col=1)\n",
    "    fig.add_trace(go.Scatter(x=pd.to_datetime(revenue_data_specific.Date, infer_datetime_format=True), y=revenue_data_specific.Revenue.astype(\"float\"), name=\"Revenue\"), row=2, col=1)\n",
    "    fig.update_xaxes(title_text=\"Date\", row=1, col=1)\n",
    "    fig.update_xaxes(title_text=\"Date\", row=2, col=1)\n",
    "    fig.update_yaxes(title_text=\"Price ($US)\", row=1, col=1)\n",
    "    fig.update_yaxes(title_text=\"Revenue ($US Millions)\", row=2, col=1)\n",
    "    fig.update_layout(showlegend=False,\n",
    "    height=900,\n",
    "    title=stock,\n",
    "    xaxis_rangeslider_visible=True)\n",
    "    fig.show()\n",
    "    from IPython.display import display, HTML\n",
    "    fig_html = fig.to_html()\n",
    "    display(HTML(fig_html))"
   ]
  },
  {
   "cell_type": "markdown",
   "id": "8bcbf6a6",
   "metadata": {},
   "source": [
    "In this section, we define the function make_graph. You don't have to know how the function works, you should only care about the inputs. It takes a dataframe with stock data (dataframe must contain Date and Close columns), a dataframe with revenue data (dataframe must contain Date and Revenue columns), and the name of the stock.\n"
   ]
  },
  {
   "cell_type": "code",
   "execution_count": null,
   "id": "9f476bad",
   "metadata": {},
   "outputs": [],
   "source": [
    "TESLA=yf.Ticker(\"TSLA\")\n",
    "\n",
    "## to display tesla's informations\n",
    "TESLA.info"
   ]
  },
  {
   "cell_type": "code",
   "execution_count": null,
   "id": "0b00ea77",
   "metadata": {},
   "outputs": [],
   "source": [
    "## to show the stock history of tesla\n",
    "\n",
    "tesla_data=TESLA.history(period=\"max\")\n",
    "\n",
    "tesla_data"
   ]
  },
  {
   "cell_type": "code",
   "execution_count": null,
   "id": "65380198",
   "metadata": {},
   "outputs": [],
   "source": [
    "tesla_data.reset_index(inplace=True)"
   ]
  },
  {
   "cell_type": "code",
   "execution_count": null,
   "id": "12713b7a",
   "metadata": {},
   "outputs": [],
   "source": [
    "tesla_data.head()"
   ]
  },
  {
   "cell_type": "markdown",
   "id": "b3ad19c1",
   "metadata": {},
   "source": [
    "Question 2\n",
    "\n"
   ]
  },
  {
   "cell_type": "code",
   "execution_count": null,
   "id": "6af92f38",
   "metadata": {},
   "outputs": [],
   "source": [
    "url=\"https://cf-courses-data.s3.us.cloud-object-storage.appdomain.cloud/IBMDeveloperSkillsNetwork-PY0220EN-SkillsNetwork/labs/project/revenue.htm\"\n",
    "response=requests.get(url)\n",
    "\n",
    "html_data=response.text\n",
    "\n",
    "soup=BeautifulSoup(html_data,\"html.parser\")"
   ]
  },
  {
   "cell_type": "code",
   "execution_count": null,
   "id": "f9dc08cd",
   "metadata": {},
   "outputs": [],
   "source": [
    "df=[]\n",
    "for row in soup.find_all(\"tbody\")[1].find_all(\"tr\"):\n",
    "    cells=row.find_all(\"td\")\n",
    "    \n",
    "    if len(cells)==2:\n",
    "     df.append({\"Date\":cells[0].text,\n",
    "               \"Revenue\":cells[1].text})\n",
    "\n",
    "tesla_revenue=pd.DataFrame(df) \n",
    "tesla_revenue        \n",
    "     \n",
    "     \n",
    "     "
   ]
  },
  {
   "cell_type": "code",
   "execution_count": null,
   "id": "3e15e87e",
   "metadata": {},
   "outputs": [],
   "source": [
    "## this is gibven line by ibm to remove the comma and dollar sign from the Revenue column.  \n",
    "tesla_revenue[\"Revenue\"] = tesla_revenue['Revenue'].str.replace(',|\\$',\"\",regex=True)"
   ]
  },
  {
   "cell_type": "code",
   "execution_count": null,
   "id": "9fd1ff82",
   "metadata": {},
   "outputs": [],
   "source": [
    "## given code to remove null values\n",
    "tesla_revenue.dropna(inplace=True)\n",
    "tesla_revenue = tesla_revenue[tesla_revenue['Revenue'] != \"\"]"
   ]
  },
  {
   "cell_type": "code",
   "execution_count": null,
   "id": "60c2de8b",
   "metadata": {},
   "outputs": [],
   "source": [
    "tesla_revenue"
   ]
  },
  {
   "cell_type": "code",
   "execution_count": null,
   "id": "67ec4c10",
   "metadata": {},
   "outputs": [],
   "source": [
    "tesla_revenue.tail()"
   ]
  },
  {
   "cell_type": "code",
   "execution_count": null,
   "id": "4e1161ae",
   "metadata": {},
   "outputs": [],
   "source": [
    "##Question 3\n",
    "Gamestop=yf.Ticker(\"GME\")"
   ]
  },
  {
   "cell_type": "code",
   "execution_count": null,
   "id": "40979afe",
   "metadata": {},
   "outputs": [],
   "source": [
    "## to get the stock history\n",
    "gme_data=Gamestop.history(period=\"max\")\n"
   ]
  },
  {
   "cell_type": "code",
   "execution_count": null,
   "id": "5a868fd2",
   "metadata": {},
   "outputs": [],
   "source": [
    "gme_data.reset_index(inplace=True)"
   ]
  },
  {
   "cell_type": "code",
   "execution_count": null,
   "id": "d92e54e7",
   "metadata": {},
   "outputs": [],
   "source": [
    "gme_data.head()"
   ]
  },
  {
   "cell_type": "code",
   "execution_count": null,
   "id": "45cb6f9b",
   "metadata": {},
   "outputs": [],
   "source": [
    "##Question 4 \n",
    "## extractiong gamestop revenue\n",
    "url=\"https://cf-courses-data.s3.us.cloud-object-storage.appdomain.cloud/IBMDeveloperSkillsNetwork-PY0220EN-SkillsNetwork/labs/project/stock.html\"\n",
    "res=requests.get(url)\n",
    "html_data_2=res.text\n",
    "soup=BeautifulSoup(html_data_2,\"html.parser\")\n",
    "\n",
    "## using read html\n",
    "df1=pd.DataFrame(columns=[\"Date\",\"Revenue\"])\n",
    "gme_revenue=pd.read_html(url)\n",
    "gme_revenue=gme_revenue[1]\n",
    "gme_revenue.rename(columns={\"GameStop Quarterly Revenue (Millions of US $)\":\"Date\",\"GameStop Quarterly Revenue (Millions of US $).1\":\"Revenue\"},inplace=True)\n"
   ]
  },
  {
   "cell_type": "code",
   "execution_count": null,
   "id": "85262b4e",
   "metadata": {},
   "outputs": [],
   "source": [
    "## this is gibven line by ibm to remove the comma and dollar sign from the Revenue column.  \n",
    "gme_revenue[\"Revenue\"] = gme_revenue['Revenue'].str.replace(',|\\$',\"\",regex=True)\n",
    "\n"
   ]
  },
  {
   "cell_type": "code",
   "execution_count": null,
   "id": "69bd4b63",
   "metadata": {},
   "outputs": [],
   "source": [
    "## given code to remove null values\n",
    "\n",
    "gme_revenue.dropna(inplace=True)\n",
    "gme_revenue = gme_revenue[gme_revenue['Revenue'] != \"\"]"
   ]
  },
  {
   "cell_type": "code",
   "execution_count": null,
   "id": "26210e42",
   "metadata": {},
   "outputs": [],
   "source": [
    "gme_revenue.tail()"
   ]
  },
  {
   "cell_type": "code",
   "execution_count": null,
   "id": "0ee25158",
   "metadata": {},
   "outputs": [],
   "source": [
    "## Question 5: Plot Tesla Stock Graph\n",
    "\n",
    "make_graph(tesla_data,tesla_revenue,\"Tesla\")"
   ]
  },
  {
   "cell_type": "code",
   "execution_count": null,
   "id": "6ad50470",
   "metadata": {},
   "outputs": [],
   "source": [
    "### Question 6: Plot GameStop Stock Graph\n",
    "\n",
    "make_graph(gme_data,gme_revenue,\"Game Stop\")"
   ]
  }
 ],
 "metadata": {
  "kernelspec": {
   "display_name": "Python 3",
   "language": "python",
   "name": "python3"
  },
  "language_info": {
   "codemirror_mode": {
    "name": "ipython",
    "version": 3
   },
   "file_extension": ".py",
   "mimetype": "text/x-python",
   "name": "python",
   "nbconvert_exporter": "python",
   "pygments_lexer": "ipython3",
   "version": "3.13.7"
  }
 },
 "nbformat": 4,
 "nbformat_minor": 5
}
